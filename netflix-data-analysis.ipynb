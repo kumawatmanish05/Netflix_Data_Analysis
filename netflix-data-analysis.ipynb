{
 "cells": [
  {
   "cell_type": "markdown",
   "id": "4dc6a136",
   "metadata": {
    "papermill": {
     "duration": 0.002896,
     "end_time": "2024-11-08T10:44:04.864318",
     "exception": false,
     "start_time": "2024-11-08T10:44:04.861422",
     "status": "completed"
    },
    "tags": []
   },
   "source": [
    "# Importing Data And Libraries "
   ]
  },
  {
   "cell_type": "code",
   "execution_count": 1,
   "id": "e4239edd",
   "metadata": {
    "_cell_guid": "b1076dfc-b9ad-4769-8c92-a6c4dae69d19",
    "_uuid": "8f2839f25d086af736a60e9eeb907d3b93b6e0e5",
    "execution": {
     "iopub.execute_input": "2024-11-08T10:44:04.871442Z",
     "iopub.status.busy": "2024-11-08T10:44:04.870971Z",
     "iopub.status.idle": "2024-11-08T10:44:05.947645Z",
     "shell.execute_reply": "2024-11-08T10:44:05.946142Z"
    },
    "papermill": {
     "duration": 1.083291,
     "end_time": "2024-11-08T10:44:05.950298",
     "exception": false,
     "start_time": "2024-11-08T10:44:04.867007",
     "status": "completed"
    },
    "tags": []
   },
   "outputs": [
    {
     "name": "stdout",
     "output_type": "stream",
     "text": [
      "/kaggle/input/netflix-data-analysis/netflix_movies (1).csv\n"
     ]
    }
   ],
   "source": [
    "# This Python 3 environment comes with many helpful analytics libraries installed\n",
    "# It is defined by the kaggle/python Docker image: https://github.com/kaggle/docker-python\n",
    "# For example, here's several helpful packages to load\n",
    "\n",
    "import numpy as np # linear algebra\n",
    "import pandas as pd # data processing, CSV file I/O (e.g. pd.read_csv)\n",
    "\n",
    "# Input data files are available in the read-only \"../input/\" directory\n",
    "# For example, running this (by clicking run or pressing Shift+Enter) will list all files under the input directory\n",
    "\n",
    "import os\n",
    "for dirname, _, filenames in os.walk('/kaggle/input'):\n",
    "    for filename in filenames:\n",
    "        print(os.path.join(dirname, filename))\n",
    "\n",
    "# You can write up to 20GB to the current directory (/kaggle/working/) that gets preserved as output when you create a version using \"Save & Run All\" \n",
    "# You can also write temporary files to /kaggle/temp/, but they won't be saved outside of the current session"
   ]
  },
  {
   "cell_type": "code",
   "execution_count": 2,
   "id": "42b8af47",
   "metadata": {
    "execution": {
     "iopub.execute_input": "2024-11-08T10:44:05.958799Z",
     "iopub.status.busy": "2024-11-08T10:44:05.958165Z",
     "iopub.status.idle": "2024-11-08T10:44:08.682498Z",
     "shell.execute_reply": "2024-11-08T10:44:08.681101Z"
    },
    "papermill": {
     "duration": 2.73128,
     "end_time": "2024-11-08T10:44:08.685176",
     "exception": false,
     "start_time": "2024-11-08T10:44:05.953896",
     "status": "completed"
    },
    "tags": []
   },
   "outputs": [],
   "source": [
    "import seaborn as sns\n",
    "import matplotlib.pyplot as plt\n",
    "import plotly.express as px\n",
    "from wordcloud import WordCloud"
   ]
  },
  {
   "cell_type": "code",
   "execution_count": 3,
   "id": "84e2c5e7",
   "metadata": {
    "execution": {
     "iopub.execute_input": "2024-11-08T10:44:08.692955Z",
     "iopub.status.busy": "2024-11-08T10:44:08.691766Z",
     "iopub.status.idle": "2024-11-08T10:44:08.697503Z",
     "shell.execute_reply": "2024-11-08T10:44:08.696294Z"
    },
    "papermill": {
     "duration": 0.011961,
     "end_time": "2024-11-08T10:44:08.699835",
     "exception": false,
     "start_time": "2024-11-08T10:44:08.687874",
     "status": "completed"
    },
    "tags": []
   },
   "outputs": [],
   "source": [
    "import warnings\n",
    "warnings.filterwarnings('ignore')"
   ]
  },
  {
   "cell_type": "code",
   "execution_count": 4,
   "id": "23e58d54",
   "metadata": {
    "execution": {
     "iopub.execute_input": "2024-11-08T10:44:08.707358Z",
     "iopub.status.busy": "2024-11-08T10:44:08.706333Z",
     "iopub.status.idle": "2024-11-08T10:44:08.843869Z",
     "shell.execute_reply": "2024-11-08T10:44:08.842742Z"
    },
    "papermill": {
     "duration": 0.14398,
     "end_time": "2024-11-08T10:44:08.846510",
     "exception": false,
     "start_time": "2024-11-08T10:44:08.702530",
     "status": "completed"
    },
    "tags": []
   },
   "outputs": [],
   "source": [
    "content_df = pd.read_csv(r'/kaggle/input/netflix-data-analysis/netflix_movies (1).csv')"
   ]
  },
  {
   "cell_type": "markdown",
   "id": "56570d3a",
   "metadata": {
    "papermill": {
     "duration": 0.002249,
     "end_time": "2024-11-08T10:44:08.851389",
     "exception": false,
     "start_time": "2024-11-08T10:44:08.849140",
     "status": "completed"
    },
    "tags": []
   },
   "source": [
    "# Data Cleaning"
   ]
  }
 ],
 "metadata": {
  "kaggle": {
   "accelerator": "none",
   "dataSources": [
    {
     "datasetId": 5878115,
     "sourceId": 9629088,
     "sourceType": "datasetVersion"
    }
   ],
   "dockerImageVersionId": 30786,
   "isGpuEnabled": false,
   "isInternetEnabled": true,
   "language": "python",
   "sourceType": "notebook"
  },
  "kernelspec": {
   "display_name": "Python 3",
   "language": "python",
   "name": "python3"
  },
  "language_info": {
   "codemirror_mode": {
    "name": "ipython",
    "version": 3
   },
   "file_extension": ".py",
   "mimetype": "text/x-python",
   "name": "python",
   "nbconvert_exporter": "python",
   "pygments_lexer": "ipython3",
   "version": "3.10.14"
  },
  "papermill": {
   "default_parameters": {},
   "duration": 7.823067,
   "end_time": "2024-11-08T10:44:09.575959",
   "environment_variables": {},
   "exception": null,
   "input_path": "__notebook__.ipynb",
   "output_path": "__notebook__.ipynb",
   "parameters": {},
   "start_time": "2024-11-08T10:44:01.752892",
   "version": "2.6.0"
  }
 },
 "nbformat": 4,
 "nbformat_minor": 5
}
